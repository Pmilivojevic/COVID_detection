{
  "nbformat": 4,
  "nbformat_minor": 0,
  "metadata": {
    "colab": {
      "provenance": [],
      "authorship_tag": "ABX9TyME6kaYPKugwPrr0nUI2SPk",
      "include_colab_link": true
    },
    "kernelspec": {
      "name": "python3",
      "display_name": "Python 3"
    }
  },
  "cells": [
    {
      "cell_type": "markdown",
      "metadata": {
        "id": "view-in-github",
        "colab_type": "text"
      },
      "source": [
        "<a href=\"https://colab.research.google.com/github/Pmilivojevic/COVID_detection/blob/main/Comparative_analysis.ipynb\" target=\"_parent\"><img src=\"https://colab.research.google.com/assets/colab-badge.svg\" alt=\"Open In Colab\"/></a>"
      ]
    },
    {
      "cell_type": "code",
      "metadata": {
        "id": "oLToPm84CvkF",
        "colab": {
          "base_uri": "https://localhost:8080/"
        },
        "outputId": "972630fe-2f70-46d0-b6cd-cedd46669450"
      },
      "source": [
        "# Ucitavanje potrebnih biblioteka\n",
        "\n",
        "from tensorflow.keras.models import Model, load_model\n",
        "from tensorflow.keras.utils import to_categorical\n",
        "from sklearn.preprocessing import LabelBinarizer\n",
        "from sklearn.metrics import classification_report\n",
        "from sklearn.metrics import confusion_matrix\n",
        "import itertools\n",
        "from imutils import paths\n",
        "import matplotlib.pyplot as plt\n",
        "import numpy as np\n",
        "import cv2\n",
        "import os\n",
        "import re\n",
        "from google.colab import drive\n",
        "drive.mount('/content/drive/')"
      ],
      "execution_count": null,
      "outputs": [
        {
          "output_type": "stream",
          "text": [
            "Mounted at /content/drive/\n"
          ],
          "name": "stdout"
        }
      ]
    },
    {
      "cell_type": "code",
      "metadata": {
        "id": "DAzeQo3WDimf"
      },
      "source": [
        "# Putanje do test snimaka i treniranih modela\n",
        "\n",
        "testPath= '/content/drive/My Drive/Colab Notebooks/covidDetection/Test'\n",
        "testAugmentedPath= '/content/drive/My Drive/Colab Notebooks/covidDetection/TestAugmented'\n",
        "tl_modelsPath= '/content/drive/My Drive/Colab Notebooks/covidDetection/covidModels/transferLearning'\n",
        "ft_modelsPath= '/content/drive/My Drive/Colab Notebooks/covidDetection/covidModels/fineTuning'"
      ],
      "execution_count": null,
      "outputs": []
    },
    {
      "cell_type": "code",
      "metadata": {
        "id": "UdvhzMUnDwMZ"
      },
      "source": [
        "# Ucitavanje test seta podataka\n",
        "\n",
        "TestImagePaths = list(paths.list_images(testPath))\n",
        "dataTest = []\n",
        "labelsTest = []\n",
        "\n",
        "for TestImagePath in TestImagePaths:\n",
        "\tlabelTest = TestImagePath.split(os.path.sep)[-2]\n",
        "\timage = cv2.imread(TestImagePath)\n",
        "\timage = cv2.cvtColor(image, cv2.COLOR_BGR2RGB)\n",
        "\timage = cv2.resize(image, (224, 224))\n",
        "\tdataTest.append(image)\n",
        "\tlabelsTest.append(labelTest)\n",
        "# Slike se normalizuju na opseg (-1.0, 1.0)\n",
        "dataTest = np.array(dataTest)\n",
        "dataTest= (dataTest-127.5)/127.5\n",
        "labelsTest = np.array(labelsTest)\n",
        "\n",
        "lbTest = LabelBinarizer()\n",
        "labelsTest1 = lbTest.fit_transform(labelsTest)\n",
        "labelsTest2 = to_categorical(labelsTest1)\n",
        "labelsTest3 = np.argmax(labelsTest2, axis=1)"
      ],
      "execution_count": null,
      "outputs": []
    },
    {
      "cell_type": "code",
      "metadata": {
        "id": "dgOfOJU0GK3X",
        "colab": {
          "base_uri": "https://localhost:8080/",
          "height": 370
        },
        "outputId": "7a30884f-5120-432f-e509-b3cc479677f9"
      },
      "source": [
        "# Ucitavanje modela i racunanje osnovne metrike za uporednu analizu modela\n",
        "\n",
        "modelsPath = ft_modelsPath\n",
        "pattern = \"(.h5)\"\n",
        "newPattern = r\"\"\n",
        "names  = []\n",
        "cms = []\n",
        "accs = []\n",
        "precs = []\n",
        "recalls = []\n",
        "f1s = []\n",
        "\n",
        "for name in os.listdir(modelsPath):\n",
        "  modelName = re.sub(pattern, newPattern, name)\n",
        "  names.append(modelName)\n",
        "  model = load_model(modelsPath+'/'+name)\n",
        "  predIdxs = model.predict(dataTest)\n",
        "  predIdxs = np.argmax(predIdxs, axis=1)\n",
        "  cm = confusion_matrix(labelsTest, predIdxs)\n",
        "  cms.append(cm)\n",
        "  acc = (cm[0,0] + cm[1,1]) / sum(sum(cm))\n",
        "  accs.append(acc)\n",
        "  precission = cm[1,1] / (cm[1,1] + cm[0,1])\n",
        "  precs.append(precission)\n",
        "  recall = cm[1,1] / (cm[1,1] + cm[1,0])\n",
        "  recalls.append(recall)\n",
        "  f1 = 2 * precission * recall / (precission + recall)\n",
        "  f1s.append(f1)"
      ],
      "execution_count": null,
      "outputs": [
        {
          "output_type": "error",
          "ename": "ValueError",
          "evalue": "ignored",
          "traceback": [
            "\u001b[0;31m---------------------------------------------------------------------------\u001b[0m",
            "\u001b[0;31mValueError\u001b[0m                                Traceback (most recent call last)",
            "\u001b[0;32m<ipython-input-4-35d07e4465b3>\u001b[0m in \u001b[0;36m<module>\u001b[0;34m()\u001b[0m\n\u001b[1;32m     17\u001b[0m   \u001b[0mpredIdxs\u001b[0m \u001b[0;34m=\u001b[0m \u001b[0mmodel\u001b[0m\u001b[0;34m.\u001b[0m\u001b[0mpredict\u001b[0m\u001b[0;34m(\u001b[0m\u001b[0mdataTest\u001b[0m\u001b[0;34m)\u001b[0m\u001b[0;34m\u001b[0m\u001b[0;34m\u001b[0m\u001b[0m\n\u001b[1;32m     18\u001b[0m   \u001b[0mpredIdxs\u001b[0m \u001b[0;34m=\u001b[0m \u001b[0mnp\u001b[0m\u001b[0;34m.\u001b[0m\u001b[0margmax\u001b[0m\u001b[0;34m(\u001b[0m\u001b[0mpredIdxs\u001b[0m\u001b[0;34m,\u001b[0m \u001b[0maxis\u001b[0m\u001b[0;34m=\u001b[0m\u001b[0;36m1\u001b[0m\u001b[0;34m)\u001b[0m\u001b[0;34m\u001b[0m\u001b[0;34m\u001b[0m\u001b[0m\n\u001b[0;32m---> 19\u001b[0;31m   \u001b[0mcm\u001b[0m \u001b[0;34m=\u001b[0m \u001b[0mconfusion_matrix\u001b[0m\u001b[0;34m(\u001b[0m\u001b[0mlabelsTest\u001b[0m\u001b[0;34m,\u001b[0m \u001b[0mpredIdxs\u001b[0m\u001b[0;34m)\u001b[0m\u001b[0;34m\u001b[0m\u001b[0;34m\u001b[0m\u001b[0m\n\u001b[0m\u001b[1;32m     20\u001b[0m   \u001b[0mcms\u001b[0m\u001b[0;34m.\u001b[0m\u001b[0mappend\u001b[0m\u001b[0;34m(\u001b[0m\u001b[0mcm\u001b[0m\u001b[0;34m)\u001b[0m\u001b[0;34m\u001b[0m\u001b[0;34m\u001b[0m\u001b[0m\n\u001b[1;32m     21\u001b[0m   \u001b[0macc\u001b[0m \u001b[0;34m=\u001b[0m \u001b[0;34m(\u001b[0m\u001b[0mcm\u001b[0m\u001b[0;34m[\u001b[0m\u001b[0;36m0\u001b[0m\u001b[0;34m,\u001b[0m\u001b[0;36m0\u001b[0m\u001b[0;34m]\u001b[0m \u001b[0;34m+\u001b[0m \u001b[0mcm\u001b[0m\u001b[0;34m[\u001b[0m\u001b[0;36m1\u001b[0m\u001b[0;34m,\u001b[0m\u001b[0;36m1\u001b[0m\u001b[0;34m]\u001b[0m\u001b[0;34m)\u001b[0m \u001b[0;34m/\u001b[0m \u001b[0msum\u001b[0m\u001b[0;34m(\u001b[0m\u001b[0msum\u001b[0m\u001b[0;34m(\u001b[0m\u001b[0mcm\u001b[0m\u001b[0;34m)\u001b[0m\u001b[0;34m)\u001b[0m\u001b[0;34m\u001b[0m\u001b[0;34m\u001b[0m\u001b[0m\n",
            "\u001b[0;32m/usr/local/lib/python3.6/dist-packages/sklearn/metrics/_classification.py\u001b[0m in \u001b[0;36mconfusion_matrix\u001b[0;34m(y_true, y_pred, labels, sample_weight, normalize)\u001b[0m\n\u001b[1;32m    271\u001b[0m \u001b[0;34m\u001b[0m\u001b[0m\n\u001b[1;32m    272\u001b[0m     \u001b[0;32mif\u001b[0m \u001b[0mlabels\u001b[0m \u001b[0;32mis\u001b[0m \u001b[0;32mNone\u001b[0m\u001b[0;34m:\u001b[0m\u001b[0;34m\u001b[0m\u001b[0;34m\u001b[0m\u001b[0m\n\u001b[0;32m--> 273\u001b[0;31m         \u001b[0mlabels\u001b[0m \u001b[0;34m=\u001b[0m \u001b[0munique_labels\u001b[0m\u001b[0;34m(\u001b[0m\u001b[0my_true\u001b[0m\u001b[0;34m,\u001b[0m \u001b[0my_pred\u001b[0m\u001b[0;34m)\u001b[0m\u001b[0;34m\u001b[0m\u001b[0;34m\u001b[0m\u001b[0m\n\u001b[0m\u001b[1;32m    274\u001b[0m     \u001b[0;32melse\u001b[0m\u001b[0;34m:\u001b[0m\u001b[0;34m\u001b[0m\u001b[0;34m\u001b[0m\u001b[0m\n\u001b[1;32m    275\u001b[0m         \u001b[0mlabels\u001b[0m \u001b[0;34m=\u001b[0m \u001b[0mnp\u001b[0m\u001b[0;34m.\u001b[0m\u001b[0masarray\u001b[0m\u001b[0;34m(\u001b[0m\u001b[0mlabels\u001b[0m\u001b[0;34m)\u001b[0m\u001b[0;34m\u001b[0m\u001b[0;34m\u001b[0m\u001b[0m\n",
            "\u001b[0;32m/usr/local/lib/python3.6/dist-packages/sklearn/utils/multiclass.py\u001b[0m in \u001b[0;36munique_labels\u001b[0;34m(*ys)\u001b[0m\n\u001b[1;32m     98\u001b[0m     \u001b[0;31m# Check that we don't mix string type with number type\u001b[0m\u001b[0;34m\u001b[0m\u001b[0;34m\u001b[0m\u001b[0;34m\u001b[0m\u001b[0m\n\u001b[1;32m     99\u001b[0m     \u001b[0;32mif\u001b[0m \u001b[0;34m(\u001b[0m\u001b[0mlen\u001b[0m\u001b[0;34m(\u001b[0m\u001b[0mset\u001b[0m\u001b[0;34m(\u001b[0m\u001b[0misinstance\u001b[0m\u001b[0;34m(\u001b[0m\u001b[0mlabel\u001b[0m\u001b[0;34m,\u001b[0m \u001b[0mstr\u001b[0m\u001b[0;34m)\u001b[0m \u001b[0;32mfor\u001b[0m \u001b[0mlabel\u001b[0m \u001b[0;32min\u001b[0m \u001b[0mys_labels\u001b[0m\u001b[0;34m)\u001b[0m\u001b[0;34m)\u001b[0m \u001b[0;34m>\u001b[0m \u001b[0;36m1\u001b[0m\u001b[0;34m)\u001b[0m\u001b[0;34m:\u001b[0m\u001b[0;34m\u001b[0m\u001b[0;34m\u001b[0m\u001b[0m\n\u001b[0;32m--> 100\u001b[0;31m         \u001b[0;32mraise\u001b[0m \u001b[0mValueError\u001b[0m\u001b[0;34m(\u001b[0m\u001b[0;34m\"Mix of label input types (string and number)\"\u001b[0m\u001b[0;34m)\u001b[0m\u001b[0;34m\u001b[0m\u001b[0;34m\u001b[0m\u001b[0m\n\u001b[0m\u001b[1;32m    101\u001b[0m \u001b[0;34m\u001b[0m\u001b[0m\n\u001b[1;32m    102\u001b[0m     \u001b[0;32mreturn\u001b[0m \u001b[0mnp\u001b[0m\u001b[0;34m.\u001b[0m\u001b[0marray\u001b[0m\u001b[0;34m(\u001b[0m\u001b[0msorted\u001b[0m\u001b[0;34m(\u001b[0m\u001b[0mys_labels\u001b[0m\u001b[0;34m)\u001b[0m\u001b[0;34m)\u001b[0m\u001b[0;34m\u001b[0m\u001b[0;34m\u001b[0m\u001b[0m\n",
            "\u001b[0;31mValueError\u001b[0m: Mix of label input types (string and number)"
          ]
        }
      ]
    },
    {
      "cell_type": "code",
      "metadata": {
        "id": "Dv2ygLMuWgcx",
        "colab": {
          "base_uri": "https://localhost:8080/",
          "height": 84
        },
        "outputId": "77e53f37-4ce0-4270-b260-7b190bb4c0c7"
      },
      "source": [
        "# Tabelarni prikaz modela i odgovarajucih parametara\n",
        "\n",
        "print(format('Model:', '30'), format('Precission:', '12'), format('Recall:', '8'), format('Accuracy:', '10'), format('F1 score:', '10'))\n",
        "for i in range(len(os.listdir(modelsPath))):\n",
        "  print(format(names[i], '30'), format(precs[i], '<12.4f'), format(recalls[i], '<8.4f'), format(accs[i], '<10.4f'), format(f1s[i], '<10.4f'))"
      ],
      "execution_count": null,
      "outputs": [
        {
          "output_type": "stream",
          "text": [
            "Model:                         Precission:  Recall:  Accuracy:  F1 score: \n",
            "ResNet152V2_fineTuned          1.0000       1.0000   1.0000     1.0000    \n",
            "ResNet50V2_fineTuned           0.9524       1.0000   0.9750     0.9756    \n",
            "InceptionResNetV2_fineTuned    0.9524       1.0000   0.9750     0.9756    \n"
          ],
          "name": "stdout"
        }
      ]
    },
    {
      "cell_type": "markdown",
      "metadata": {
        "id": "QBNiXxFrWq9e"
      },
      "source": [
        "Iz tablice se vidi da najbolje performanse daju mreze ResNet50V2, ResNet152V2 i InceptionResNetV2, pa je plan primeniti korak fine-tuning na sve tri mreze i videti koja daje najbolji rezultat"
      ]
    },
    {
      "cell_type": "code",
      "metadata": {
        "id": "HZCp4vOg4Rnw"
      },
      "source": [
        "# funkcija za plot konfuzione matrice\n",
        "\n",
        "def plot_confusion_matrix(cm, classes, ax, title, cmap= plt.cm.Blues):\n",
        "  ax.imshow(cm, interpolation= 'nearest', cmap= cmap)\n",
        "  ax.set_title(title)\n",
        "  tick_marks= np.arange(len(classes))\n",
        "  ax.set_xticks(tick_marks)\n",
        "  ax.set_xticklabels(classes)\n",
        "  ax.set_yticks(tick_marks)\n",
        "  ax.set_yticklabels(classes)\n",
        "\n",
        "  thresh= cm.max()/2.\n",
        "  for i,j in itertools.product(range(cm.shape[0]), range(cm.shape[1])):\n",
        "    ax.text(j, i, cm[i,j], horizontalalignment= 'center', color= 'white' if cm[i,j] > thresh else 'black')\n",
        "\n",
        "  plt.tight_layout()\n",
        "  ax.set_xlabel('Predicted label')\n",
        "  ax.set_ylabel('True label')"
      ],
      "execution_count": null,
      "outputs": []
    },
    {
      "cell_type": "code",
      "metadata": {
        "id": "CIMcZueF2cBZ",
        "colab": {
          "base_uri": "https://localhost:8080/",
          "height": 549
        },
        "outputId": "e865f098-dc97-4401-84c9-1c674eefd3f8"
      },
      "source": [
        "# Plot konfuzionih matrica modela iz transfer learning koraka\n",
        "\n",
        "fig= plt.figure(figsize= (15,8))\n",
        "axs= []\n",
        "labels= ['Normal', 'Covid-19']\n",
        "\n",
        "ax1= plt.subplot2grid((2,4), (0,0))\n",
        "axs.append(ax1)\n",
        "ax2= plt.subplot2grid((2,4), (0,1))\n",
        "axs.append(ax2)\n",
        "ax3= plt.subplot2grid((2,4), (0,2))\n",
        "axs.append(ax3)\n",
        "ax4= plt.subplot2grid((2,4), (0,3))\n",
        "axs.append(ax4)\n",
        "ax5= plt.subplot2grid((2,4), (1,0))\n",
        "axs.append(ax5)\n",
        "ax6= plt.subplot2grid((2,4), (1,1))\n",
        "axs.append(ax6)\n",
        "ax7= plt.subplot2grid((2,4), (1,2))\n",
        "axs.append(ax7)\n",
        "\n",
        "for i in range(len(cms)):\n",
        "  plot_confusion_matrix(cms[i], labels, axs[i], names[i])"
      ],
      "execution_count": null,
      "outputs": [
        {
          "output_type": "display_data",
          "data": {
            "image/png": "[encoded data removed]",
            "text/plain": [
              "<Figure size 1080x576 with 7 Axes>"
            ]
          },
          "metadata": {
            "tags": [],
            "needs_background": "light"
          }
        }
      ]
    },
    {
      "cell_type": "markdown",
      "metadata": {
        "id": "AxXvs9mfWn1k"
      },
      "source": []
    },
    {
      "cell_type": "code",
      "metadata": {
        "id": "YXl_LrAvB4FH",
        "colab": {
          "base_uri": "https://localhost:8080/",
          "height": 269
        },
        "outputId": "37d58074-e9b1-4088-fb73-1b714a5c73e2"
      },
      "source": [
        "# Plot konfuzione matrice iz fine-tuning koraka\n",
        "\n",
        "fig= plt.figure(figsize= (15,10))\n",
        "axs= []\n",
        "labels= ['Normal', 'Covid-19']\n",
        "\n",
        "ax1= plt.subplot2grid((2,4), (0,0))\n",
        "axs.append(ax1)\n",
        "ax2= plt.subplot2grid((2,4), (0,1))\n",
        "axs.append(ax2)\n",
        "ax3= plt.subplot2grid((2,4), (0,2))\n",
        "axs.append(ax3)\n",
        "\n",
        "for i in range(len(cms)):\n",
        "  plot_confusion_matrix(cms[i], labels, axs[i], names[i])"
      ],
      "execution_count": null,
      "outputs": [
        {
          "output_type": "display_data",
          "data": {
            "image/png": "[encoded data removed]",
            "text/plain": [
              "<Figure size 1080x720 with 3 Axes>"
            ]
          },
          "metadata": {
            "tags": [],
            "needs_background": "light"
          }
        }
      ]
    },
    {
      "cell_type": "markdown",
      "metadata": {
        "id": "sBXSzXqoXZwp"
      },
      "source": [
        "Kada se odradi uporedna analiza modela koji su prosli kroz fine-tuning korak, na osnovu tabele i konfuzionih matrica, vidimo da najbolje performanse daje ResNet152V2_fineTuned."
      ]
    },
    {
      "cell_type": "code",
      "metadata": {
        "id": "SmCCraTMZeE4"
      },
      "source": [],
      "execution_count": null,
      "outputs": []
    }
  ]
}